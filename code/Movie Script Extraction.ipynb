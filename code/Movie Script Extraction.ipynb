{
 "cells": [
  {
   "cell_type": "code",
   "execution_count": 1,
   "id": "a77ecb47",
   "metadata": {
    "ExecuteTime": {
     "end_time": "2023-02-09T01:30:06.003015Z",
     "start_time": "2023-02-09T01:29:55.125214Z"
    }
   },
   "outputs": [],
   "source": [
    "import pandas as pd\n",
    "import numpy as np\n",
    "import requests\n",
    "from bs4 import BeautifulSoup\n",
    "import re"
   ]
  },
  {
   "cell_type": "markdown",
   "id": "374f5775",
   "metadata": {},
   "source": [
    "###### Importing IMDB movie meta-data for movies names to be scrapped"
   ]
  },
  {
   "cell_type": "code",
   "execution_count": 2,
   "id": "97bd8b52",
   "metadata": {
    "ExecuteTime": {
     "end_time": "2023-02-09T01:30:09.032775Z",
     "start_time": "2023-02-09T01:30:08.471665Z"
    }
   },
   "outputs": [],
   "source": [
    "movieMetaData = pd.read_csv('../data/kaggle/IMDB_parental_guide.csv')\n",
    "### Selecting only movies\n",
    "movieMetaData = movieMetaData[movieMetaData['titleType'] == 'movie']"
   ]
  },
  {
   "cell_type": "code",
   "execution_count": 3,
   "id": "f21dddd0",
   "metadata": {
    "ExecuteTime": {
     "end_time": "2023-02-09T01:30:09.158714Z",
     "start_time": "2023-02-09T01:30:09.056214Z"
    }
   },
   "outputs": [
    {
     "data": {
      "text/html": [
       "<div>\n",
       "<style scoped>\n",
       "    .dataframe tbody tr th:only-of-type {\n",
       "        vertical-align: middle;\n",
       "    }\n",
       "\n",
       "    .dataframe tbody tr th {\n",
       "        vertical-align: top;\n",
       "    }\n",
       "\n",
       "    .dataframe thead th {\n",
       "        text-align: right;\n",
       "    }\n",
       "</style>\n",
       "<table border=\"1\" class=\"dataframe\">\n",
       "  <thead>\n",
       "    <tr style=\"text-align: right;\">\n",
       "      <th></th>\n",
       "      <th>tconst</th>\n",
       "      <th>titleType</th>\n",
       "      <th>primaryTitle</th>\n",
       "      <th>originalTitle</th>\n",
       "      <th>isAdult</th>\n",
       "      <th>startYear</th>\n",
       "      <th>runtimeMinutes</th>\n",
       "      <th>genres</th>\n",
       "      <th>averageRating</th>\n",
       "      <th>numVotes</th>\n",
       "      <th>...</th>\n",
       "      <th>profanity</th>\n",
       "      <th>drugs</th>\n",
       "      <th>intense</th>\n",
       "      <th>sex_code</th>\n",
       "      <th>violence_code</th>\n",
       "      <th>profanity_code</th>\n",
       "      <th>drug_code</th>\n",
       "      <th>intense_code</th>\n",
       "      <th>mpaa</th>\n",
       "      <th>certificate</th>\n",
       "    </tr>\n",
       "  </thead>\n",
       "  <tbody>\n",
       "    <tr>\n",
       "      <th>0</th>\n",
       "      <td>tt0111161</td>\n",
       "      <td>movie</td>\n",
       "      <td>The Shawshank Redemption</td>\n",
       "      <td>The Shawshank Redemption</td>\n",
       "      <td>0</td>\n",
       "      <td>1994</td>\n",
       "      <td>142.0</td>\n",
       "      <td>Drama</td>\n",
       "      <td>9.3</td>\n",
       "      <td>2684158</td>\n",
       "      <td>...</td>\n",
       "      <td>Severe</td>\n",
       "      <td>Mild</td>\n",
       "      <td>Moderate</td>\n",
       "      <td>2.0</td>\n",
       "      <td>3.0</td>\n",
       "      <td>4.0</td>\n",
       "      <td>2.0</td>\n",
       "      <td>3.0</td>\n",
       "      <td>Rated R for language and prison violence</td>\n",
       "      <td>Argentina:16 (original rating)|Argentina:13 (r...</td>\n",
       "    </tr>\n",
       "  </tbody>\n",
       "</table>\n",
       "<p>1 rows × 22 columns</p>\n",
       "</div>"
      ],
      "text/plain": [
       "      tconst titleType              primaryTitle             originalTitle  \\\n",
       "0  tt0111161     movie  The Shawshank Redemption  The Shawshank Redemption   \n",
       "\n",
       "   isAdult  startYear  runtimeMinutes genres  averageRating  numVotes  ...  \\\n",
       "0        0       1994           142.0  Drama            9.3   2684158  ...   \n",
       "\n",
       "  profanity drugs   intense sex_code violence_code  profanity_code  drug_code  \\\n",
       "0    Severe  Mild  Moderate      2.0           3.0             4.0        2.0   \n",
       "\n",
       "   intense_code                                      mpaa  \\\n",
       "0           3.0  Rated R for language and prison violence   \n",
       "\n",
       "                                         certificate  \n",
       "0  Argentina:16 (original rating)|Argentina:13 (r...  \n",
       "\n",
       "[1 rows x 22 columns]"
      ]
     },
     "execution_count": 3,
     "metadata": {},
     "output_type": "execute_result"
    }
   ],
   "source": [
    "movieMetaData.head(1)"
   ]
  },
  {
   "cell_type": "code",
   "execution_count": 4,
   "id": "58e5e646",
   "metadata": {
    "ExecuteTime": {
     "end_time": "2023-02-09T01:30:09.725817Z",
     "start_time": "2023-02-09T01:30:09.713791Z"
    }
   },
   "outputs": [
    {
     "data": {
      "text/plain": [
       "(39124, 22)"
      ]
     },
     "execution_count": 4,
     "metadata": {},
     "output_type": "execute_result"
    }
   ],
   "source": [
    "movieMetaData.shape"
   ]
  },
  {
   "cell_type": "code",
   "execution_count": 5,
   "id": "7e7ba0fb",
   "metadata": {
    "ExecuteTime": {
     "end_time": "2023-02-09T01:30:10.530424Z",
     "start_time": "2023-02-09T01:30:10.422889Z"
    }
   },
   "outputs": [
    {
     "data": {
      "text/html": [
       "<div>\n",
       "<style scoped>\n",
       "    .dataframe tbody tr th:only-of-type {\n",
       "        vertical-align: middle;\n",
       "    }\n",
       "\n",
       "    .dataframe tbody tr th {\n",
       "        vertical-align: top;\n",
       "    }\n",
       "\n",
       "    .dataframe thead th {\n",
       "        text-align: right;\n",
       "    }\n",
       "</style>\n",
       "<table border=\"1\" class=\"dataframe\">\n",
       "  <thead>\n",
       "    <tr style=\"text-align: right;\">\n",
       "      <th></th>\n",
       "      <th>tconst</th>\n",
       "      <th>primaryTitle</th>\n",
       "      <th>originalTitle</th>\n",
       "      <th>isAdult</th>\n",
       "      <th>startYear</th>\n",
       "      <th>runtimeMinutes</th>\n",
       "      <th>genres</th>\n",
       "      <th>averageRating</th>\n",
       "      <th>numVotes</th>\n",
       "      <th>sex</th>\n",
       "      <th>...</th>\n",
       "      <th>profanity</th>\n",
       "      <th>drugs</th>\n",
       "      <th>intense</th>\n",
       "      <th>sex_code</th>\n",
       "      <th>violence_code</th>\n",
       "      <th>profanity_code</th>\n",
       "      <th>drug_code</th>\n",
       "      <th>intense_code</th>\n",
       "      <th>mpaa</th>\n",
       "      <th>certificate</th>\n",
       "    </tr>\n",
       "    <tr>\n",
       "      <th>titleType</th>\n",
       "      <th></th>\n",
       "      <th></th>\n",
       "      <th></th>\n",
       "      <th></th>\n",
       "      <th></th>\n",
       "      <th></th>\n",
       "      <th></th>\n",
       "      <th></th>\n",
       "      <th></th>\n",
       "      <th></th>\n",
       "      <th></th>\n",
       "      <th></th>\n",
       "      <th></th>\n",
       "      <th></th>\n",
       "      <th></th>\n",
       "      <th></th>\n",
       "      <th></th>\n",
       "      <th></th>\n",
       "      <th></th>\n",
       "      <th></th>\n",
       "      <th></th>\n",
       "    </tr>\n",
       "  </thead>\n",
       "  <tbody>\n",
       "    <tr>\n",
       "      <th>movie</th>\n",
       "      <td>39124</td>\n",
       "      <td>39124</td>\n",
       "      <td>39124</td>\n",
       "      <td>39124</td>\n",
       "      <td>39124</td>\n",
       "      <td>39124</td>\n",
       "      <td>39124</td>\n",
       "      <td>39124</td>\n",
       "      <td>39124</td>\n",
       "      <td>28175</td>\n",
       "      <td>...</td>\n",
       "      <td>25305</td>\n",
       "      <td>25019</td>\n",
       "      <td>24690</td>\n",
       "      <td>28175</td>\n",
       "      <td>26061</td>\n",
       "      <td>25305</td>\n",
       "      <td>25019</td>\n",
       "      <td>24690</td>\n",
       "      <td>12129</td>\n",
       "      <td>37844</td>\n",
       "    </tr>\n",
       "  </tbody>\n",
       "</table>\n",
       "<p>1 rows × 21 columns</p>\n",
       "</div>"
      ],
      "text/plain": [
       "           tconst  primaryTitle  originalTitle  isAdult  startYear  \\\n",
       "titleType                                                            \n",
       "movie       39124         39124          39124    39124      39124   \n",
       "\n",
       "           runtimeMinutes  genres  averageRating  numVotes    sex  ...  \\\n",
       "titleType                                                          ...   \n",
       "movie               39124   39124          39124     39124  28175  ...   \n",
       "\n",
       "           profanity  drugs  intense  sex_code  violence_code  profanity_code  \\\n",
       "titleType                                                                       \n",
       "movie          25305  25019    24690     28175          26061           25305   \n",
       "\n",
       "           drug_code  intense_code   mpaa  certificate  \n",
       "titleType                                               \n",
       "movie          25019         24690  12129        37844  \n",
       "\n",
       "[1 rows x 21 columns]"
      ]
     },
     "execution_count": 5,
     "metadata": {},
     "output_type": "execute_result"
    }
   ],
   "source": [
    "movieMetaData.groupby(['titleType']).count()"
   ]
  },
  {
   "cell_type": "markdown",
   "id": "b1dca1dc",
   "metadata": {},
   "source": [
    "###### Module for scrapping movie script"
   ]
  },
  {
   "cell_type": "code",
   "execution_count": 6,
   "id": "48e61efc",
   "metadata": {
    "ExecuteTime": {
     "end_time": "2023-02-09T01:30:12.475010Z",
     "start_time": "2023-02-09T01:30:12.451201Z"
    }
   },
   "outputs": [],
   "source": [
    "def movieDatapull(mName):\n",
    "    try:\n",
    "        ###### Hitting URL to get script\n",
    "        movieURL = \"https://imsdb.com/scripts/%s.html\"%(mName)\n",
    "        r = requests.get(movieURL)\n",
    "        soup = BeautifulSoup(r.content, 'html.parser') \n",
    "\n",
    "        ###### Extracting HTML cpntent\n",
    "        ### Script content is in <pre> and hence extracting the same\n",
    "        content = soup.find('pre').text\n",
    "        ### Removing newline characters\n",
    "        content = content.replace('\\r', '').replace('\\n', '').replace('\\\\', '').replace('\\t', ' ').strip()\n",
    "        content = ' '.join(content.split())\n",
    "\n",
    "        ###### Saving contents to text file with movie name\n",
    "        with open('../data/scrapped/%s.txt'%(mName), \"w\", encoding=\"utf-8\") as f:\n",
    "            f.write(content)\n",
    "    except:\n",
    "        print('Couldnt find movie: %s'%(mName))"
   ]
  },
  {
   "cell_type": "markdown",
   "id": "3b9504bc",
   "metadata": {
    "ExecuteTime": {
     "end_time": "2023-02-08T03:39:48.660613Z",
     "start_time": "2023-02-08T03:39:47.499677Z"
    }
   },
   "source": [
    "###### Scrapping in loop"
   ]
  },
  {
   "cell_type": "code",
   "execution_count": null,
   "id": "2621fa08",
   "metadata": {},
   "outputs": [],
   "source": [
    "movieMetaData.reset_index(inplace = True)"
   ]
  },
  {
   "cell_type": "code",
   "execution_count": 14,
   "id": "12dbcbbf",
   "metadata": {
    "ExecuteTime": {
     "end_time": "2023-02-09T03:47:45.152781Z",
     "start_time": "2023-02-09T01:36:51.593892Z"
    }
   },
   "outputs": [
    {
     "name": "stdout",
     "output_type": "stream",
     "text": [
      "Couldnt find movie: What's-Cooking?\n",
      "Couldnt find movie: What's-Your-Raashee?\n",
      "Couldnt find movie: 30-Rojullo-Preminchadam-Ela?\n",
      "Couldnt find movie: Who-Saw-Her-Die?\n",
      "Couldnt find movie: 7/G-Rainbow-Colony\n",
      "Couldnt find movie: Sailor-Moon-R:-The-Movie:-The-Promise-of-the-Rose\n",
      "Couldnt find movie: Unforgiven\n",
      "Couldnt find movie: Why-Does-Herr-R.-Run-Amok?\n",
      "Couldnt find movie: Whatcha-Wearin'?\n",
      "Couldnt find movie: Who's-Minding-the-Store?\n",
      "Couldnt find movie: Who-Killed-Garrett-Phillips?\n",
      "Couldnt find movie: Shall-We-Kiss?\n",
      "Couldnt find movie: Why-Me?\n",
      "Couldnt find movie: Fate/stay-night-[Heaven's-Feel]-II.-lost-butterfly\n",
      "Couldnt find movie: Who-Done-It?\n",
      "Couldnt find movie: Marat/Sade\n",
      "Couldnt find movie: Who-Would-You-Take-to-a-Deserted-Island?\n",
      "Couldnt find movie: Bollywood/Hollywood\n",
      "Couldnt find movie: Ritoru-foresuto:-Fuyu/Haru\n",
      "Couldnt find movie: What-Ever-Happened-to-Aunt-Alice?\n",
      "Couldnt find movie: Do-You-See-Me?\n",
      "Couldnt find movie: Who-Knows?\n",
      "Couldnt find movie: Who-Is-Killing-the-Great-Chefs-of-Europe?\n",
      "Couldnt find movie: What-Price-Hollywood?\n",
      "Couldnt find movie: What's-the-Time-in-Your-World?\n",
      "Couldnt find movie: 13/13/13\n",
      "Couldnt find movie: Vazhakku-Enn-18/9\n",
      "Couldnt find movie: Feminists:-What-Were-They-Thinking?\n",
      "Couldnt find movie: Whoever-Slew-Auntie-Roo?\n",
      "Couldnt find movie: Now-Where-Did-the-Seventh-Company-Get-to?\n",
      "Couldnt find movie: Who-Killed-Cock-Robin?\n",
      "Couldnt find movie: #Captured\n",
      "Couldnt find movie: Where's-Poppa?\n",
      "Couldnt find movie: What-Have-They-Done-to-Your-Daughters?\n",
      "Couldnt find movie: Matangi/Maya/M.I.A\n",
      "Couldnt find movie: Pokémon:-Zoroark:-Master-of-Illusions\n",
      "Couldnt find movie: Dream/Killer\n",
      "Couldnt find movie: Fate/stay-night-[Heaven's-Feel]-III.-spring-song\n",
      "Couldnt find movie: What-Did-You-Do-in-the-War,-Daddy?\n",
      "Couldnt find movie: What's-the-Matter-with-Helen?\n",
      "Couldnt find movie: White-Light/Black-Rain:-The-Destruction-of-Hiroshima-and-Nagasaki\n",
      "Couldnt find movie: #Kaadal-Kahaani\n",
      "Couldnt find movie: Ever-Been-to-the-Moon?\n",
      "Couldnt find movie: Nenu-C/o-Nuvvu\n",
      "Couldnt find movie: Did-You...-Score?\n",
      "Couldnt find movie: Do-I-Sound-Gay?\n",
      "Couldnt find movie: The-End?\n",
      "Couldnt find movie: Batman-and-Robin\n",
      "Couldnt find movie: What-We-Left-Behind:-Looking-Back-at-Star-Trek:-Deep-Space-Nine\n",
      "Couldnt find movie: Albert-Pinto-Ko-Gussa-Kyun-Aata-Hai?\n",
      "Couldnt find movie: Nativity-3:-Dude,-Where's-My-Donkey?!\n",
      "Couldnt find movie: Happily-N'ever-After-2:-Snow-White:-Another-Bite-at-the-Apple\n",
      "Couldnt find movie: 3-1/2-Minutes,-10-Bullets\n",
      "Couldnt find movie: Araf/Somewhere-in-Between\n",
      "Couldnt find movie: Chi-La-Sow?\n",
      "Couldnt find movie: What-Is-a-Man-Without-a-Moustache?\n",
      "Couldnt find movie: Smoking/No-Smoking\n",
      "Couldnt find movie: Which-Way-Is-Up?\n",
      "Couldnt find movie: Alexandria...-Why?\n",
      "Couldnt find movie: Why-Worry?\n",
      "Couldnt find movie: Who-Is-Harry-Nilsson-(And-Why-Is-Everybody-Talkin'-About-Him?)\n",
      "Couldnt find movie: Them-Who?\n",
      "Couldnt find movie: Where-Is-Kyra?\n",
      "Couldnt find movie: I-Became-a-Criminal\n",
      "Couldnt find movie: Any-Questions-for-Ben?\n",
      "Couldnt find movie: Sailor-Moon-SuperS:-The-Movie:-Black-Dream-Hole\n",
      "Couldnt find movie: Gekijouban-Fate/Stay-Night:-Unlimited-Blade-Works\n",
      "Couldnt find movie: Hello!-How-Are-You?\n",
      "Couldnt find movie: Do-Women-Have-a-Higher-Sex-Drive?\n",
      "Couldnt find movie: Stay-Out-of-the-F**king-Attic\n",
      "Couldnt find movie: A-Talking-Cat!?!\n",
      "Couldnt find movie: Do-You-Trust-This-Computer?\n",
      "Couldnt find movie: Is-Genesis-History?\n",
      "Couldnt find movie: 12/12/12\n",
      "Couldnt find movie: #Anne-Frank-Parallel-Stories\n",
      "Couldnt find movie: Bring-It-On:-Worldwide-#Cheersmack\n",
      "Couldnt find movie: What-Do-We-See-When-We-Look-at-the-Sky?\n",
      "Couldnt find movie: MLK/FBI\n",
      "Couldnt find movie: Who-Was-That-Lady?\n",
      "Couldnt find movie: When-Do-We-Eat?\n",
      "Couldnt find movie: Waterhole-#3\n",
      "Couldnt find movie: Who-Gets-the-Dog?\n",
      "Couldnt find movie: How-Old-Are-You?\n",
      "Couldnt find movie: Doraemon:-Nobita-and-the-New-Steel-Troops:-~Winged-Angels~\n",
      "Couldnt find movie: Why-Change-Your-Wife?\n",
      "Couldnt find movie: Will-You-Be-There?\n",
      "Couldnt find movie: Mais-qui-a-re-tué-Pamela-Rose?\n",
      "Couldnt find movie: Female-Prisoner-Scorpion:-#701's-Grudge-Song\n",
      "Couldnt find movie: Drama/Mex\n",
      "Couldnt find movie: Isi/Disi---Amor-a-lo-bestia\n",
      "Couldnt find movie: Who-Killed-Bambi?\n",
      "Couldnt find movie: Why-Has-Bodhi-Dharma-Left-for-the-East?\n",
      "Couldnt find movie: Whose-Streets?\n",
      "Couldnt find movie: Which-Way-to-the-Front?\n",
      "Couldnt find movie: May-Who?\n",
      "Couldnt find movie: 20:30:40\n",
      "Couldnt find movie: Savitri-W/o-Satyamurthy\n",
      "Couldnt find movie: M.-Kumaran-S/O-Mahalakshmi\n",
      "Couldnt find movie: Who-Killed-Bambi?\n",
      "Couldnt find movie: If-Not-Us,-Who?\n",
      "Couldnt find movie: Why-Me?\n",
      "Couldnt find movie: Whatever-Happened-to-Harold-Smith?\n",
      "Couldnt find movie: F*ck-Love-Too\n",
      "%-Is-Jackson-Pollock?ho-the-#Progress: 32.4775\n",
      "Couldnt find movie: Unforgiven\n",
      "Couldnt find movie: Am-I-Beautiful?\n",
      "Couldnt find movie: AC/DC:-Let-There-Be-Rock\n",
      "Couldnt find movie: #Stuck\n",
      "Couldnt find movie: Filmage:-The-Story-of-Descendents/All\n",
      "Couldnt find movie: Do-Fish-Do-It?\n",
      "Couldnt find movie: Forest-of-the-Damned\n",
      "Couldnt find movie: Mom-or-Dad?\n",
      "Couldnt find movie: What-Did-the-Lady-Forget?\n",
      "Couldnt find movie: Role/Play\n",
      "Couldnt find movie: What-Would-Jesus-Buy?\n",
      "Couldnt find movie: Woh-Kaun-Thi?\n",
      "Couldnt find movie: Who-Are-You,-Polly-Maggoo?\n",
      "Couldnt find movie: What's-the-Matter-with-Gerald?\n",
      "Couldnt find movie: #Screamers\n",
      "Couldnt find movie: Who's-Minding-the-Mint?\n",
      "Couldnt find movie: Inmate-#1:-The-Rise-of-Danny-Trejo\n",
      "Couldnt find movie: Where's-My-Roy-Cohn?\n",
      "Couldnt find movie: Slash/Back\n",
      "Couldnt find movie: Ricordi?\n",
      "Couldnt find movie: Ananthu-v/s-Nusrath\n",
      "Couldnt find movie: Quo-Vadis,-Baby?\n",
      "Couldnt find movie: #Iamhere\n",
      "Couldnt find movie: Who-Wants-to-Kill-Jessie?\n",
      "Couldnt find movie: How-Much-Does-the-Trojan-Horse-Weigh?\n",
      "Couldnt find movie: You-Talkin'-to-Me?\n",
      "Couldnt find movie: Afterburn/Aftershock\n",
      "Couldnt find movie: What-Time-Is-It?\n",
      "Couldnt find movie: Exterior/Night\n",
      "Couldnt find movie: Where's-the-Party-Yaar?\n",
      "Couldnt find movie: Do-You-Wanna-Know-a-Secret?\n",
      "Couldnt find movie: What-Fault-Is-It-of-Ours?\n",
      "Couldnt find movie: Big-Boys-Gone-Bananas!*\n",
      "Couldnt find movie: Who-Is-Harry-Kellerman-and-Why-Is-He-Saying-Those-Terrible-Things-About-Me?\n",
      "Progress: 43.2375\r"
     ]
    }
   ],
   "source": [
    "for mName, index in zip(movieMetaData['primaryTitle'][21832:], range(1, len(movieMetaData['primaryTitle'][21832:])+1)):\n",
    "    print(f'Progress: %s' %(index*100/40000), end='\\r')\n",
    "    ### Printing progress\n",
    "    if index in range(0, 40000, 1000):\n",
    "        print(f'Progress: %s' %(index*100/40000), end='\\r')\n",
    "    try:\n",
    "        movieDatapull(mName.replace(' ', '-'))\n",
    "    except:\n",
    "        print('Couldnt find movie: %s'%(mName))"
   ]
  },
  {
   "cell_type": "code",
   "execution_count": 12,
   "id": "3f266e41",
   "metadata": {
    "ExecuteTime": {
     "end_time": "2023-02-09T01:33:04.952204Z",
     "start_time": "2023-02-09T01:33:04.937911Z"
    }
   },
   "outputs": [
    {
     "data": {
      "text/plain": [
       "Int64Index([21832], dtype='int64')"
      ]
     },
     "execution_count": 12,
     "metadata": {},
     "output_type": "execute_result"
    }
   ],
   "source": [
    "movieMetaData[movieMetaData['primaryTitle'] == \"What's Cooking?\"].index"
   ]
  },
  {
   "cell_type": "code",
   "execution_count": 11,
   "id": "51800495",
   "metadata": {
    "ExecuteTime": {
     "end_time": "2023-02-09T01:33:00.198770Z",
     "start_time": "2023-02-09T01:33:00.182771Z"
    }
   },
   "outputs": [],
   "source": [
    "movieMetaData.reset_index(inplace = True)"
   ]
  },
  {
   "cell_type": "code",
   "execution_count": 13,
   "id": "e7f255e5",
   "metadata": {
    "ExecuteTime": {
     "end_time": "2023-02-09T01:33:12.303901Z",
     "start_time": "2023-02-09T01:33:12.289862Z"
    }
   },
   "outputs": [
    {
     "data": {
      "text/plain": [
       "21832                 What's Cooking?\n",
       "21833    Third Person Singular Number\n",
       "21834          Dream for an Insomniac\n",
       "21835                   Heading South\n",
       "21836                        Soulmate\n",
       "                     ...             \n",
       "39119                      Induvadana\n",
       "39120                           Power\n",
       "39121                      Love Games\n",
       "39122                    River's Edge\n",
       "39123                      Nawabzaade\n",
       "Name: primaryTitle, Length: 17292, dtype: object"
      ]
     },
     "execution_count": 13,
     "metadata": {},
     "output_type": "execute_result"
    }
   ],
   "source": [
    "movieMetaData['primaryTitle'][21832:]"
   ]
  },
  {
   "cell_type": "code",
   "execution_count": null,
   "id": "1200fe17",
   "metadata": {},
   "outputs": [],
   "source": []
  },
  {
   "cell_type": "code",
   "execution_count": null,
   "id": "527460e1",
   "metadata": {},
   "outputs": [],
   "source": []
  },
  {
   "cell_type": "code",
   "execution_count": null,
   "id": "ac9c8d32",
   "metadata": {},
   "outputs": [],
   "source": []
  },
  {
   "cell_type": "code",
   "execution_count": null,
   "id": "cb382775",
   "metadata": {},
   "outputs": [],
   "source": []
  },
  {
   "cell_type": "code",
   "execution_count": null,
   "id": "cfb12ab2",
   "metadata": {},
   "outputs": [],
   "source": []
  },
  {
   "cell_type": "code",
   "execution_count": null,
   "id": "99fa178f",
   "metadata": {},
   "outputs": [],
   "source": []
  }
 ],
 "metadata": {
  "kernelspec": {
   "display_name": "Python 3 (ipykernel)",
   "language": "python",
   "name": "python3"
  },
  "language_info": {
   "codemirror_mode": {
    "name": "ipython",
    "version": 3
   },
   "file_extension": ".py",
   "mimetype": "text/x-python",
   "name": "python",
   "nbconvert_exporter": "python",
   "pygments_lexer": "ipython3",
   "version": "3.10.8"
  }
 },
 "nbformat": 4,
 "nbformat_minor": 5
}
